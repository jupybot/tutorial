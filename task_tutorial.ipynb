{
 "cells": [
  {
   "cell_type": "code",
   "execution_count": 12,
   "metadata": {
    "collapsed": false
   },
   "outputs": [
    {
     "name": "stdout",
     "output_type": "stream",
     "text": [
      "Welcome back! May the `JupyBot force be with you` and your team!\n",
      "Let's get `cracking`!\n"
     ]
    }
   ],
   "source": [
    "import random\n",
    "\n",
    "SUB_TASK = \" \" #VARIABLE from input text string\n",
    "\n",
    "randon_messages = ['Welcome back! May the *JupyBot force be with you* and your team!',\n",
    "                   'Hey! Good to hear from you! *How can I help?*',\n",
    "                   'What would you like to *build today?*',\n",
    "                   'This is your tutorial. Yes! *Tutorial*. If it does not help, let us know ASAP until it REALLY helps!',\n",
    "                   \"Let's get *cracking*!\"]\n",
    "\n",
    "if SUB_TASK == '':\n",
    "    \n",
    "    print random.choice(randon_messages )\n",
    "    print '\\n'\n",
    "    print \">• To learn how to give access to users type: `tutorial users access`\"\n",
    "    print \">• To get some inspiration on tasks to build type: `tutorial inspiration`\"\n",
    "    print \">• To learn how this task that you are reading at the moment is built type: `tutorial task`\"\n",
    "    print \">• To send feedback to our founders type: `tutorial feedback` <sentence>\"\n",
    "    print \">• To watch a cool Quentin Tarantino movie clip type: `tutorial tarantino`\"\n",
    "    "
   ]
  },
  {
   "cell_type": "code",
   "execution_count": null,
   "metadata": {
    "collapsed": true
   },
   "outputs": [],
   "source": [
    "if SUB_TASK.lower()== 'users access':\n",
    "    \n",
    "    print 'In this blog post, you will find a tutorial to let other users execute the tasks you build'\n",
    "    print '`https://medium.com/@slackbot/create-your-personal-slackbot-in-12-clicks-cdc6676a4cd8` \\n'\n",
    "    print 'Please leave a comment if the post is usefull or contact info@pynotebot.com if you need more information.'\n",
    "    print 'Cheers!'\n"
   ]
  },
  {
   "cell_type": "code",
   "execution_count": null,
   "metadata": {
    "collapsed": true
   },
   "outputs": [],
   "source": [
    "if SUB_TASK.lower()== 'inspiration':\n",
    "    \n",
    "    print 'Find some usefull commands that you can start using right away'\n",
    "    print '`https://medium.com/@slackbot/create-your-personal-slackbot-in-12-clicks-cdc6676a4cd8` \\n'\n",
    "    print 'Please leave a comment if the post is usefull or contact info@pynotebot.com if you need more information.'\n",
    "    print 'Cheers!'"
   ]
  },
  {
   "cell_type": "code",
   "execution_count": null,
   "metadata": {
    "collapsed": true
   },
   "outputs": [],
   "source": [
    "if SUB_TASK.lower()== 'task':\n",
    "    \n",
    "    print 'Click on the following link to download the Jupyter Notebook that created this task'\n",
    "    print '`https://raw.githubusercontent.com/jupybot/tutorial/master/task_tutorial.ipynb` \\n'\n",
    "    print 'Please leave a comment if the post is usefull or contact info@pynotebot.com if you need more information.'\n",
    "    print 'Cheers!'"
   ]
  },
  {
   "cell_type": "code",
   "execution_count": null,
   "metadata": {
    "collapsed": true
   },
   "outputs": [],
   "source": [
    "if SUB_TASK.lower()== 'tarantino':\n",
    "    \n",
    "    tarantino_links = ['U9rIBE0KM-w', 'WVHYt7v9T1g', 'nj43p_qMTgs', '6KxhhPRBiLE',\n",
    "                       'Z-qV9wVGb38', 'q2Xi3ioasik', 'ij2_jJx1U_A', 'zKsuyyPpf6Q',\n",
    "                       'WSLMN6g_Od4', 'FZrG8qPvX3Q', 'crR6pBGMZ90', 'S8kPqAV_74M',\n",
    "                       'cdMEMGLr9xE', 'j1-1dUbBjgE', 'OYDF666wtrc', 'xcWPNFcG0ts', \n",
    "                       'Jomr9SAjcyw', 'ZOoJoTAXDPk', '_Mk_f75TS1A', 'fCbf4DjlHuM', \n",
    "                       'EajaioMj-NA', 'EnjtQQQaDKo', 'VnoT6_LNUjA', 'RWwGXIjxbnI', \n",
    "                       'QsaG8rJGlyQ', 'jKXg2eMaNXU', 'fWqnZTTRkm4', 'OsH_JszzicE', \n",
    "                       'RHULBucGlA4', '7medV0jzF1I', 'Slwpt4gtCNg', 'dH1QmfQnWbg', \n",
    "                       'q_eII34xELg', 'Gz_PJqCCd2E', 'xFfUAjUMVY8', 'wedUPkid_XY', \n",
    "                       '5waLIEahLSo', 'vtjCVRm2DAM', 'tVRPz6-Tkww', 'Fh-7WQr_daM', \n",
    "                       'gDyXbcu2RXg', 'M-FOqHC-G6Q', '57ge-WVuEY0', '6v6C3lZ9Ic0', \n",
    "                       'Gr6eFXNq5Wc', '3e7wbs_xfas', 'O82ZUvpaxB8', 'shZih7w1fxs', \n",
    "                       'vNrG5lD2zmQ', 'AFmuwF9xkq0', 'BgjpcxGhSMo', 'yUVgnUOcza0', \n",
    "                       '1IeK-V-Dlbo', '6_UI1GzaWv0', 'UxMtDb6GCOg', 'zS0hjNqluMo', \n",
    "                       'XtMfVTFz4Pw', 'eDoNmvTS5yg', '_pd6yO-jBRo']\n",
    "    \n",
    "    movie_to_show = random.choice(tarantino_links)\n",
    "    \n",
    "    link = 'https://www.youtube.com/watch?v='+movie_to_show\n",
    "    print link,'\\n'    \n",
    "    print ':tada: *Enjoy this clip!* :tada:'"
   ]
  }
 ],
 "metadata": {
  "anaconda-cloud": {},
  "kernelspec": {
   "display_name": "Python [Root]",
   "language": "python",
   "name": "Python [Root]"
  },
  "language_info": {
   "codemirror_mode": {
    "name": "ipython",
    "version": 2
   },
   "file_extension": ".py",
   "mimetype": "text/x-python",
   "name": "python",
   "nbconvert_exporter": "python",
   "pygments_lexer": "ipython2",
   "version": "2.7.12"
  }
 },
 "nbformat": 4,
 "nbformat_minor": 2
}
